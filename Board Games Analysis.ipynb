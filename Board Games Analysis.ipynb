{
 "cells": [
  {
   "cell_type": "markdown",
   "metadata": {},
   "source": [
    "# Board Games Review Analysis"
   ]
  },
  {
   "cell_type": "markdown",
   "metadata": {},
   "source": [
    "Reviews not only help to influence decisions of a consumer but are also an important consideration for gaining user trust. <br>\n",
    "Here we will look at reviews of board games. <br>\n",
    "*The dataset has been taken from: https://github.com/ThaWeatherman/scrapers.* <br>\n",
    "<blockquote>BoardGameGeek (BGG) is an online forum for board gaming hobbyists and a game database that holds reviews, images and videos for over 101,000 different tabletop games, including European-style board games, wargames, and card games. In addition to the game database, the site allows users to rate games on a 1–10 scale and publishes a ranked list of board games.</blockquote> <br> "
   ]
  },
  {
   "cell_type": "markdown",
   "metadata": {},
   "source": [
    "**We will be using TWO models: LINEAR REGRESSOR and RANDOM FORESTS to predict the average review of a board game based on a number of characteristics such as playing time, average rating, number of players etc.**"
   ]
  },
  {
   "cell_type": "markdown",
   "metadata": {},
   "source": [
    "# Step 1 : Importing the required libraries\n",
    "**Pandas:**      For reading files, creating and iterating through dataframes and to inspect data <br>\n",
    "**Matplotlib:**  Python based visualization library for plotting 2D arrays <br>\n",
    "**Seaborn:**     Another Python based library for making high quality statistical graphics <br>\n",
    "**sklearn:**     Machine Learning library in Python for using algorithms/models on our data for predictions"
   ]
  },
  {
   "cell_type": "code",
   "execution_count": 1,
   "metadata": {},
   "outputs": [],
   "source": [
    "import sys\n",
    "import pandas\n",
    "import matplotlib\n",
    "import seaborn\n",
    "import sklearn"
   ]
  },
  {
   "cell_type": "markdown",
   "metadata": {},
   "source": [
    "## Importing the specific packages\n",
    "<hr>"
   ]
  },
  {
   "cell_type": "code",
   "execution_count": 3,
   "metadata": {},
   "outputs": [],
   "source": [
    "import matplotlib.pyplot as plt\n",
    "import seaborn as sns\n",
    "from sklearn.model_selection import train_test_split"
   ]
  },
  {
   "cell_type": "markdown",
   "metadata": {},
   "source": [
    "# Step 2 : Loading the dataset\n",
    "After the data has been put in the current directory we can use a Pandas dataframe to load data. The advantage of using Pandas for data analysis is that it converts a Python's list, dictionary or NumPy array to a dataframe. To put it simply, it takes either of these data structures and converts them into a Python object of rows and columns called a Dataframe which can then be used for inspecting and iterating through data.\n"
   ]
  },
  {
   "cell_type": "code",
   "execution_count": 5,
   "metadata": {},
   "outputs": [],
   "source": [
    "games = pandas.read_csv(\"/home/mrigank/Desktop/games.csv\")"
   ]
  },
  {
   "cell_type": "markdown",
   "metadata": {},
   "source": [
    "# Step 3 : Performing Exploratory Data Analysis"
   ]
  },
  {
   "cell_type": "code",
   "execution_count": 6,
   "metadata": {},
   "outputs": [
    {
     "name": "stdout",
     "output_type": "stream",
     "text": [
      "Index([u'id', u'type', u'name', u'yearpublished', u'minplayers', u'maxplayers',\n",
      "       u'playingtime', u'minplaytime', u'maxplaytime', u'minage',\n",
      "       u'users_rated', u'average_rating', u'bayes_average_rating',\n",
      "       u'total_owners', u'total_traders', u'total_wanters', u'total_wishers',\n",
      "       u'total_comments', u'total_weights', u'average_weight'],\n",
      "      dtype='object')\n",
      "(81312, 20)\n"
     ]
    }
   ],
   "source": [
    "print(games.columns)\n",
    "print(games.shape)"
   ]
  },
  {
   "cell_type": "code",
   "execution_count": 7,
   "metadata": {},
   "outputs": [
    {
     "data": {
      "image/png": "[encoded data removed]",
      "text/plain": [
       "<Figure size 432x288 with 1 Axes>"
      ]
     },
     "metadata": {
      "needs_background": "light"
     },
     "output_type": "display_data"
    }
   ],
   "source": [
    "plt.hist(games[\"average_rating\"])\n",
    "plt.show()"
   ]
  },
  {
   "cell_type": "code",
   "execution_count": 8,
   "metadata": {},
   "outputs": [
    {
     "name": "stdout",
     "output_type": "stream",
     "text": [
      "id                             318\n",
      "type                     boardgame\n",
      "name                    Looney Leo\n",
      "yearpublished                    0\n",
      "minplayers                       0\n",
      "maxplayers                       0\n",
      "playingtime                      0\n",
      "minplaytime                      0\n",
      "maxplaytime                      0\n",
      "minage                           0\n",
      "users_rated                      0\n",
      "average_rating                   0\n",
      "bayes_average_rating             0\n",
      "total_owners                     0\n",
      "total_traders                    0\n",
      "total_wanters                    0\n",
      "total_wishers                    1\n",
      "total_comments                   0\n",
      "total_weights                    0\n",
      "average_weight                   0\n",
      "Name: 13048, dtype: object\n",
      "id                                  12333\n",
      "type                            boardgame\n",
      "name                    Twilight Struggle\n",
      "yearpublished                        2005\n",
      "minplayers                              2\n",
      "maxplayers                              2\n",
      "playingtime                           180\n",
      "minplaytime                           180\n",
      "maxplaytime                           180\n",
      "minage                                 13\n",
      "users_rated                         20113\n",
      "average_rating                    8.33774\n",
      "bayes_average_rating              8.22186\n",
      "total_owners                        26647\n",
      "total_traders                         372\n",
      "total_wanters                        1219\n",
      "total_wishers                        5865\n",
      "total_comments                       5347\n",
      "total_weights                        2562\n",
      "average_weight                     3.4785\n",
      "Name: 0, dtype: object\n"
     ]
    }
   ],
   "source": [
    "print(games[games[\"average_rating\"]==0].iloc[0])\n",
    "print(games[games[\"average_rating\"]>0].iloc[0])\n"
   ]
  },
  {
   "cell_type": "code",
   "execution_count": 9,
   "metadata": {},
   "outputs": [
    {
     "data": {
      "image/png": "[encoded data removed]",
      "text/plain": [
       "<Figure size 432x288 with 1 Axes>"
      ]
     },
     "metadata": {
      "needs_background": "light"
     },
     "output_type": "display_data"
    }
   ],
   "source": [
    "games = games[games[\"users_rated\"]>0]\n",
    "games = games.dropna(axis=0)\n",
    "plt.hist(games[\"average_rating\"])\n",
    "plt.show()"
   ]
  },
  {
   "cell_type": "code",
   "execution_count": 10,
   "metadata": {},
   "outputs": [
    {
     "data": {
      "image/png": "[encoded data removed]",
      "text/plain": [
       "<Figure size 864x720 with 2 Axes>"
      ]
     },
     "metadata": {
      "needs_background": "light"
     },
     "output_type": "display_data"
    }
   ],
   "source": [
    "corrmat = games.corr()\n",
    "fig = plt.figure(figsize=(12,10))\n",
    "sns.heatmap(corrmat, vmax=0.8, square=True)\n",
    "plt.show()"
   ]
  },
  {
   "cell_type": "code",
   "execution_count": 11,
   "metadata": {},
   "outputs": [],
   "source": [
    "columns = games.columns.tolist()\n",
    "\n",
    "columns = [c for c in columns if c not in [\"bayes_average_rating\",\"average_rating\",\"type\",\"name\",\"id\"]]\n",
    "\n",
    "target = \"average_rating\""
   ]
  },
  {
   "cell_type": "code",
   "execution_count": 12,
   "metadata": {},
   "outputs": [
    {
     "name": "stdout",
     "output_type": "stream",
     "text": [
      "(45515, 20)\n",
      "(11379, 20)\n"
     ]
    }
   ],
   "source": [
    "from sklearn.model_selection import train_test_split\n",
    "\n",
    "\n",
    "train = games.sample(frac = 0.8, random_state = 1)\n",
    "\n",
    "test = games.loc[~games.index.isin(train.index)]\n",
    "\n",
    "print(train.shape)\n",
    "print (test.shape)"
   ]
  },
  {
   "cell_type": "code",
   "execution_count": 15,
   "metadata": {},
   "outputs": [
    {
     "data": {
      "text/plain": [
       "LinearRegression(copy_X=True, fit_intercept=True, n_jobs=None,\n",
       "         normalize=False)"
      ]
     },
     "execution_count": 15,
     "metadata": {},
     "output_type": "execute_result"
    }
   ],
   "source": [
    "# Import Linear Regression Model\n",
    "from sklearn.linear_model import LinearRegression\n",
    "from sklearn.metrics import mean_squared_error\n",
    "# Initializing our model class\n",
    "LR = LinearRegression()\n",
    "# Fit the model into the training data\n",
    "LR.fit(train[columns], train[target])"
   ]
  },
  {
   "cell_type": "code",
   "execution_count": 16,
   "metadata": {},
   "outputs": [
    {
     "data": {
      "text/plain": [
       "2.078819032629324"
      ]
     },
     "execution_count": 16,
     "metadata": {},
     "output_type": "execute_result"
    }
   ],
   "source": [
    "# Generate predictions for the test set\n",
    "predictions =  LR.predict(test[columns])\n",
    "# Compute the error between test predictions and the actual values\n",
    "mean_squared_error(predictions, test[target])"
   ]
  },
  {
   "cell_type": "code",
   "execution_count": 17,
   "metadata": {},
   "outputs": [
    {
     "data": {
      "text/plain": [
       "RandomForestRegressor(bootstrap=True, criterion='mse', max_depth=None,\n",
       "           max_features='auto', max_leaf_nodes=None,\n",
       "           min_impurity_decrease=0.0, min_impurity_split=None,\n",
       "           min_samples_leaf=10, min_samples_split=2,\n",
       "           min_weight_fraction_leaf=0.0, n_estimators=100, n_jobs=None,\n",
       "           oob_score=False, random_state=1, verbose=0, warm_start=False)"
      ]
     },
     "execution_count": 17,
     "metadata": {},
     "output_type": "execute_result"
    }
   ],
   "source": [
    "# Import Random Forests Model\n",
    "from sklearn.ensemble import RandomForestRegressor\n",
    "# Initializing the model\n",
    "RFR = RandomForestRegressor(n_estimators = 100, min_samples_leaf = 10, random_state = 1)\n",
    "# Fit the model into to data\n",
    "RFR.fit(train[columns], train[target])"
   ]
  },
  {
   "cell_type": "code",
   "execution_count": 18,
   "metadata": {},
   "outputs": [
    {
     "data": {
      "text/plain": [
       "1.4458560046071653"
      ]
     },
     "execution_count": 18,
     "metadata": {},
     "output_type": "execute_result"
    }
   ],
   "source": [
    "# Generate predictions for the test set\n",
    "predictions =  RFR.predict(test[columns])\n",
    "# Compute the error between test predictions and the actual values\n",
    "mean_squared_error(predictions, test[target])"
   ]
  },
  {
   "cell_type": "code",
   "execution_count": 19,
   "metadata": {},
   "outputs": [
    {
     "data": {
      "text/plain": [
       "yearpublished      2011.0000\n",
       "minplayers            2.0000\n",
       "maxplayers            6.0000\n",
       "playingtime         200.0000\n",
       "minplaytime          60.0000\n",
       "maxplaytime         200.0000\n",
       "minage               14.0000\n",
       "users_rated       15709.0000\n",
       "total_owners      17611.0000\n",
       "total_traders       273.0000\n",
       "total_wanters      1108.0000\n",
       "total_wishers      5581.0000\n",
       "total_comments     3188.0000\n",
       "total_weights      1486.0000\n",
       "average_weight        3.6359\n",
       "Name: 9, dtype: float64"
      ]
     },
     "execution_count": 19,
     "metadata": {},
     "output_type": "execute_result"
    }
   ],
   "source": [
    "test[columns].iloc[0]"
   ]
  },
  {
   "cell_type": "code",
   "execution_count": 21,
   "metadata": {},
   "outputs": [
    {
     "name": "stdout",
     "output_type": "stream",
     "text": [
      "[8.12061283]\n",
      "[7.91373581]\n"
     ]
    }
   ],
   "source": [
    "# Making predictions with both the models\n",
    "rating_LR = LR.predict(test[columns].iloc[0].values.reshape(1,-1))\n",
    "rating_RFR = RFR.predict(test[columns].iloc[0].values.reshape(1,-1))\n",
    "# Print the results\n",
    "print(rating_LR)\n",
    "print(rating_RFR)"
   ]
  },
  {
   "cell_type": "code",
   "execution_count": 23,
   "metadata": {},
   "outputs": [
    {
     "data": {
      "text/plain": [
       "8.07933"
      ]
     },
     "execution_count": 23,
     "metadata": {},
     "output_type": "execute_result"
    }
   ],
   "source": [
    "test[target].iloc[0]"
   ]
  },
  {
   "cell_type": "code",
   "execution_count": null,
   "metadata": {},
   "outputs": [],
   "source": []
  }
 ],
 "metadata": {
  "kernelspec": {
   "display_name": "Python 2",
   "language": "python",
   "name": "python2"
  },
  "language_info": {
   "codemirror_mode": {
    "name": "ipython",
    "version": 2
   },
   "file_extension": ".py",
   "mimetype": "text/x-python",
   "name": "python",
   "nbconvert_exporter": "python",
   "pygments_lexer": "ipython2",
   "version": "2.7.15+"
  }
 },
 "nbformat": 4,
 "nbformat_minor": 2
}
